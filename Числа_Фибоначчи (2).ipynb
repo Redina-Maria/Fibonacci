{
  "cells": [
    {
      "cell_type": "code",
      "execution_count": 2,
      "metadata": {
        "colab": {
          "base_uri": "https://localhost:8080/"
        },
        "id": "sWSjancVZ3To",
        "outputId": "c6b51908-14f6-4bb2-b2e6-eb0700ba1540"
      },
      "outputs": [
        {
          "output_type": "stream",
          "name": "stdout",
          "text": [
            "Крайнее 1000-е число в ряду Фибоначчи: 43466557686937456435688527675040625802564660517371780402481729089536555417949051890403879840079255169295922593080322634775209689623239873322471161642996440906533187938298969649928516003704476137795166849228875\n",
            "<function parallel_fib at 0x7d46e5499630>\n"
          ]
        }
      ],
      "source": [
        "# Для начала установим новое значение для предельного количества цифр в строковом представлении целого числа\n",
        "import sys\n",
        "sys.set_int_max_str_digits(100000)\n",
        "\n",
        "import concurrent.futures #модуль, позволяющий запустить несколько потоков/процессов\n",
        "\n",
        "def fib(n):\n",
        "    if n <= 2:\n",
        "        return 1\n",
        "    a, b = 1, 1\n",
        "    for _ in range(n - 2): # выполняется цикл for повторяющийся n - 2 раза.\n",
        "        a, b = b, a + b # a становится равным b, а b становится равным сумме предыдущего a и b.\n",
        "    return b\n",
        "\n",
        "def parallel_fib(n):\n",
        "    with concurrent.futures.ThreadPoolExecutor() as executor:   #ThreadPoolExecutor - класс, для работы с потоками\n",
        "        future = executor.submit(fib, n) #submit отправляет функцию 'fib' аргумент 'n' в очередь задач исполнителя\n",
        "        result = future.result()\n",
        "        return result\n",
        "\n",
        " # map подходит для ситуации, когда надо одну и ту же функц. запустить с разными аргументами, важен порядок\n",
        " # submit запускает одну функцию один раз (понятнее выглядит) в map надо описать много вызовов с многими аргументами.\n",
        "\n",
        "n = 1000\n",
        "fibonacci_number = parallel_fib(n)\n",
        "print(f\"Крайнее {n}-е число в ряду Фибоначчи: {fibonacci_number}\")\n",
        "print (parallel_fib)\n"
      ]
    }
  ],
  "metadata": {
    "colab": {
      "provenance": []
    },
    "kernelspec": {
      "display_name": "Python 3",
      "name": "python3"
    },
    "language_info": {
      "name": "python"
    }
  },
  "nbformat": 4,
  "nbformat_minor": 0
}